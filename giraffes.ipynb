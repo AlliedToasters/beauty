{
 "cells": [
  {
   "cell_type": "code",
   "execution_count": 21,
   "metadata": {},
   "outputs": [],
   "source": [
    "import numpy as np\n",
    "from scipy.sparse import coo_matrix\n",
    "\n",
    "import torch"
   ]
  },
  {
   "cell_type": "code",
   "execution_count": 18,
   "metadata": {},
   "outputs": [
    {
     "name": "stdout",
     "output_type": "stream",
     "text": [
      "0.49981\n",
      "0.50053\n",
      "0.49897\n",
      "0.5015\n",
      "0.49849\n",
      "0.50144\n",
      "0.49896\n"
     ]
    }
   ],
   "source": [
    "class Individual(object):\n",
    "    \n",
    "    def __init__(self, n_nodes=100000):\n",
    "        self.genome = (np.random.random(size=n_nodes) > .5).astype(np.uint8)\n",
    "        \n",
    "    def mutate(self, p=.01):\n",
    "        n_nodes = self.genome.shape[0]\n",
    "        mutation_mask = (np.random.random(size=n_nodes) > p).astype(np.uint8)\n",
    "        result = self.genome + mutation_mask\n",
    "        result = np.where(result == 2, 0, result)\n",
    "        self.genome = result\n",
    "        \n",
    "    def __len__(self):\n",
    "        return len(self.genome)\n",
    "    \n",
    "def PhenotypeMap(object):\n",
    "    \n",
    "    def __init__(self, size_genome=100000, hidden_size=10, n_phenotypes=2):\n",
    "        \n",
    "        self.t1 = np.random.randn()\n",
    "        density = (epsilon * (self.indim + self.outdim))/(self.indim * self.outdim)\n",
    "    "
   ]
  },
  {
   "cell_type": "code",
   "execution_count": 34,
   "metadata": {},
   "outputs": [],
   "source": [
    "epsilon = 11\n",
    "\n",
    "density = (epsilon * (100000 + 1000))/(100000 * 1000)\n",
    "n_nodes = int((100000 * 1000) * density)\n",
    "values = np.random.randn(n_nodes)\n",
    "mat = coo_matrix()"
   ]
  },
  {
   "cell_type": "code",
   "execution_count": 33,
   "metadata": {},
   "outputs": [
    {
     "data": {
      "text/plain": [
       "1101100"
      ]
     },
     "execution_count": 33,
     "metadata": {},
     "output_type": "execute_result"
    }
   ],
   "source": [
    "n_nodes"
   ]
  },
  {
   "cell_type": "code",
   "execution_count": null,
   "metadata": {},
   "outputs": [],
   "source": []
  }
 ],
 "metadata": {
  "kernelspec": {
   "display_name": "Python 3",
   "language": "python",
   "name": "python3"
  },
  "language_info": {
   "codemirror_mode": {
    "name": "ipython",
    "version": 3
   },
   "file_extension": ".py",
   "mimetype": "text/x-python",
   "name": "python",
   "nbconvert_exporter": "python",
   "pygments_lexer": "ipython3",
   "version": "3.6.8"
  }
 },
 "nbformat": 4,
 "nbformat_minor": 2
}
